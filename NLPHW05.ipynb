{
  "nbformat": 4,
  "nbformat_minor": 0,
  "metadata": {
    "colab": {
      "name": "NLPHW05.ipynb",
      "provenance": [],
      "collapsed_sections": [],
      "mount_file_id": "1SUZRS-5-rltlxH34pDDsmHgMqCvwLbSX",
      "authorship_tag": "ABX9TyP21JJjcveFzqwYt+5GE9JI",
      "include_colab_link": true
    },
    "kernelspec": {
      "name": "python3",
      "display_name": "Python 3"
    },
    "language_info": {
      "name": "python"
    }
  },
  "cells": [
    {
      "cell_type": "markdown",
      "metadata": {
        "id": "view-in-github",
        "colab_type": "text"
      },
      "source": [
        "<a href=\"https://colab.research.google.com/github/james330/NLPHW05/blob/main/NLPHW05.ipynb\" target=\"_parent\"><img src=\"https://colab.research.google.com/assets/colab-badge.svg\" alt=\"Open In Colab\"/></a>"
      ]
    },
    {
      "cell_type": "code",
      "metadata": {
        "id": "2z4LCC_9ebGp"
      },
      "source": [
        "# 路徑: './drive/MyDrive/Colab Notebooks/data/translation2019zh_train.json'\n",
        "# 這次真的是 json檔案了，所以等等要上網查一下"
      ],
      "execution_count": null,
      "outputs": []
    }
  ]
}