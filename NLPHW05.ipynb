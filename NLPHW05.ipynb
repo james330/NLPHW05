{
  "nbformat": 4,
  "nbformat_minor": 0,
  "metadata": {
    "colab": {
      "name": "NLPHW05.ipynb",
      "provenance": [],
      "collapsed_sections": [],
      "mount_file_id": "1SUZRS-5-rltlxH34pDDsmHgMqCvwLbSX",
      "authorship_tag": "ABX9TyP8mjBgOoAe6dYKggO3HmXA",
      "include_colab_link": true
    },
    "kernelspec": {
      "name": "python3",
      "display_name": "Python 3"
    },
    "language_info": {
      "name": "python"
    }
  },
  "cells": [
    {
      "cell_type": "markdown",
      "metadata": {
        "id": "view-in-github",
        "colab_type": "text"
      },
      "source": [
        "<a href=\"https://colab.research.google.com/github/james330/NLPHW05/blob/main/NLPHW05.ipynb\" target=\"_parent\"><img src=\"https://colab.research.google.com/assets/colab-badge.svg\" alt=\"Open In Colab\"/></a>"
      ]
    },
    {
      "cell_type": "code",
      "metadata": {
        "colab": {
          "base_uri": "https://localhost:8080/"
        },
        "id": "_kG72TsvD0N3",
        "outputId": "dd9d1ec7-93f8-45b1-dd3c-fe601e0a1f99"
      },
      "source": [
        "pip install opencc-python-reimplemented"
      ],
      "execution_count": 1,
      "outputs": [
        {
          "output_type": "stream",
          "text": [
            "Requirement already satisfied: opencc-python-reimplemented in /usr/local/lib/python3.7/dist-packages (0.1.6)\n"
          ],
          "name": "stdout"
        }
      ]
    },
    {
      "cell_type": "code",
      "metadata": {
        "id": "ssK36dsOKbGv"
      },
      "source": [
        "import json\n",
        "from opencc import OpenCC"
      ],
      "execution_count": 2,
      "outputs": []
    },
    {
      "cell_type": "code",
      "metadata": {
        "id": "NwT9AI1LHrUg"
      },
      "source": [
        "# 將json格式，轉為python格式\n",
        "# {'english':'xxxx' ,'chinese':'xxxxx'}\n",
        "D = []\n",
        "file = open('./drive/MyDrive/Colab Notebooks/data/translation2019zh_train.json' ,'r')\n",
        "for f in file:\n",
        "  D.append(json.loads(f)) #就這樣將json 轉成python了"
      ],
      "execution_count": 4,
      "outputs": []
    },
    {
      "cell_type": "code",
      "metadata": {
        "colab": {
          "base_uri": "https://localhost:8080/"
        },
        "id": "5xFY1Q1BJ9KQ",
        "outputId": "658de0d4-f206-4ffa-af0c-874398446838"
      },
      "source": [
        "# 分割英文資料與中文資料"
      ],
      "execution_count": 70,
      "outputs": [
        {
          "output_type": "stream",
          "text": [
            "{'english': 'For greater sharpness, but with a slight increase in graininess, you can use a 1:1 dilution of this developer.', 'chinese': '为了更好的锐度，但是附带的会多一些颗粒度，可以使用这个显影剂的1：1稀释液。'}\n"
          ],
          "name": "stdout"
        },
        {
          "output_type": "execute_result",
          "data": {
            "text/plain": [
              "dict"
            ]
          },
          "metadata": {},
          "execution_count": 70
        }
      ]
    }
  ]
}