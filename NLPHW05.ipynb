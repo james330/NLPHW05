{
  "nbformat": 4,
  "nbformat_minor": 0,
  "metadata": {
    "colab": {
      "name": "NLPHW05.ipynb",
      "provenance": [],
      "collapsed_sections": [],
      "mount_file_id": "1SUZRS-5-rltlxH34pDDsmHgMqCvwLbSX",
      "authorship_tag": "ABX9TyN165sU2UiFtPXkqm6aUcpW",
      "include_colab_link": true
    },
    "kernelspec": {
      "name": "python3",
      "display_name": "Python 3"
    },
    "language_info": {
      "name": "python"
    }
  },
  "cells": [
    {
      "cell_type": "markdown",
      "metadata": {
        "id": "view-in-github",
        "colab_type": "text"
      },
      "source": [
        "<a href=\"https://colab.research.google.com/github/james330/NLPHW05/blob/main/NLPHW05.ipynb\" target=\"_parent\"><img src=\"https://colab.research.google.com/assets/colab-badge.svg\" alt=\"Open In Colab\"/></a>"
      ]
    },
    {
      "cell_type": "code",
      "metadata": {
        "colab": {
          "base_uri": "https://localhost:8080/"
        },
        "id": "_kG72TsvD0N3",
        "outputId": "fe08c754-09a7-4104-94b7-c9f199ff4da9"
      },
      "source": [
        "pip install opencc-python-reimplemented"
      ],
      "execution_count": 1,
      "outputs": [
        {
          "output_type": "stream",
          "text": [
            "Collecting opencc-python-reimplemented\n",
            "  Downloading opencc-python-reimplemented-0.1.6.tar.gz (484 kB)\n",
            "\u001b[?25l\r\u001b[K     |▊                               | 10 kB 18.0 MB/s eta 0:00:01\r\u001b[K     |█▍                              | 20 kB 19.6 MB/s eta 0:00:01\r\u001b[K     |██                              | 30 kB 16.5 MB/s eta 0:00:01\r\u001b[K     |██▊                             | 40 kB 10.9 MB/s eta 0:00:01\r\u001b[K     |███▍                            | 51 kB 5.5 MB/s eta 0:00:01\r\u001b[K     |████                            | 61 kB 5.4 MB/s eta 0:00:01\r\u001b[K     |████▊                           | 71 kB 5.6 MB/s eta 0:00:01\r\u001b[K     |█████▍                          | 81 kB 6.3 MB/s eta 0:00:01\r\u001b[K     |██████                          | 92 kB 4.7 MB/s eta 0:00:01\r\u001b[K     |██████▊                         | 102 kB 5.1 MB/s eta 0:00:01\r\u001b[K     |███████▍                        | 112 kB 5.1 MB/s eta 0:00:01\r\u001b[K     |████████▏                       | 122 kB 5.1 MB/s eta 0:00:01\r\u001b[K     |████████▉                       | 133 kB 5.1 MB/s eta 0:00:01\r\u001b[K     |█████████▌                      | 143 kB 5.1 MB/s eta 0:00:01\r\u001b[K     |██████████▏                     | 153 kB 5.1 MB/s eta 0:00:01\r\u001b[K     |██████████▉                     | 163 kB 5.1 MB/s eta 0:00:01\r\u001b[K     |███████████▌                    | 174 kB 5.1 MB/s eta 0:00:01\r\u001b[K     |████████████▏                   | 184 kB 5.1 MB/s eta 0:00:01\r\u001b[K     |████████████▉                   | 194 kB 5.1 MB/s eta 0:00:01\r\u001b[K     |█████████████▌                  | 204 kB 5.1 MB/s eta 0:00:01\r\u001b[K     |██████████████▏                 | 215 kB 5.1 MB/s eta 0:00:01\r\u001b[K     |██████████████▉                 | 225 kB 5.1 MB/s eta 0:00:01\r\u001b[K     |███████████████▌                | 235 kB 5.1 MB/s eta 0:00:01\r\u001b[K     |████████████████▎               | 245 kB 5.1 MB/s eta 0:00:01\r\u001b[K     |█████████████████               | 256 kB 5.1 MB/s eta 0:00:01\r\u001b[K     |█████████████████▋              | 266 kB 5.1 MB/s eta 0:00:01\r\u001b[K     |██████████████████▎             | 276 kB 5.1 MB/s eta 0:00:01\r\u001b[K     |███████████████████             | 286 kB 5.1 MB/s eta 0:00:01\r\u001b[K     |███████████████████▋            | 296 kB 5.1 MB/s eta 0:00:01\r\u001b[K     |████████████████████▎           | 307 kB 5.1 MB/s eta 0:00:01\r\u001b[K     |█████████████████████           | 317 kB 5.1 MB/s eta 0:00:01\r\u001b[K     |█████████████████████▋          | 327 kB 5.1 MB/s eta 0:00:01\r\u001b[K     |██████████████████████▎         | 337 kB 5.1 MB/s eta 0:00:01\r\u001b[K     |███████████████████████         | 348 kB 5.1 MB/s eta 0:00:01\r\u001b[K     |███████████████████████▊        | 358 kB 5.1 MB/s eta 0:00:01\r\u001b[K     |████████████████████████▍       | 368 kB 5.1 MB/s eta 0:00:01\r\u001b[K     |█████████████████████████       | 378 kB 5.1 MB/s eta 0:00:01\r\u001b[K     |█████████████████████████▊      | 389 kB 5.1 MB/s eta 0:00:01\r\u001b[K     |██████████████████████████▍     | 399 kB 5.1 MB/s eta 0:00:01\r\u001b[K     |███████████████████████████     | 409 kB 5.1 MB/s eta 0:00:01\r\u001b[K     |███████████████████████████▊    | 419 kB 5.1 MB/s eta 0:00:01\r\u001b[K     |████████████████████████████▍   | 430 kB 5.1 MB/s eta 0:00:01\r\u001b[K     |█████████████████████████████   | 440 kB 5.1 MB/s eta 0:00:01\r\u001b[K     |█████████████████████████████▊  | 450 kB 5.1 MB/s eta 0:00:01\r\u001b[K     |██████████████████████████████▍ | 460 kB 5.1 MB/s eta 0:00:01\r\u001b[K     |███████████████████████████████ | 471 kB 5.1 MB/s eta 0:00:01\r\u001b[K     |███████████████████████████████▉| 481 kB 5.1 MB/s eta 0:00:01\r\u001b[K     |████████████████████████████████| 484 kB 5.1 MB/s \n",
            "\u001b[?25hBuilding wheels for collected packages: opencc-python-reimplemented\n",
            "  Building wheel for opencc-python-reimplemented (setup.py) ... \u001b[?25l\u001b[?25hdone\n",
            "  Created wheel for opencc-python-reimplemented: filename=opencc_python_reimplemented-0.1.6-py2.py3-none-any.whl size=486150 sha256=99db97833f9d92539a74d69b12ed0b287c68035f052def9afbb4910ba7f63ea0\n",
            "  Stored in directory: /root/.cache/pip/wheels/4e/e2/60/d062d260be08788bb389521544a8fc173de9a9a78d6a593344\n",
            "Successfully built opencc-python-reimplemented\n",
            "Installing collected packages: opencc-python-reimplemented\n",
            "Successfully installed opencc-python-reimplemented-0.1.6\n"
          ],
          "name": "stdout"
        }
      ]
    },
    {
      "cell_type": "code",
      "metadata": {
        "id": "ssK36dsOKbGv"
      },
      "source": [
        "import json\n",
        "from opencc import OpenCC\n",
        "import numpy as np\n",
        "from keras.models import Model\n",
        "from keras.layers import Input, LSTM, Dense, Embedding\n",
        "from tensorflow.keras.optimizers import Adam # - Works"
      ],
      "execution_count": 2,
      "outputs": []
    },
    {
      "cell_type": "code",
      "metadata": {
        "id": "NwT9AI1LHrUg"
      },
      "source": [
        "# 將json格式，轉為python格式\n",
        "# {'english':'xxxx' ,'chinese':'xxxxx'}\n",
        "data = []\n",
        "datas = []\n",
        "file = open('./drive/MyDrive/Colab Notebooks/data/translation2019zh_train.json' ,'r')\n",
        "for f in file:\n",
        "  data.append(json.loads(f)) #就這樣將json 轉成python了"
      ],
      "execution_count": 92,
      "outputs": []
    },
    {
      "cell_type": "code",
      "metadata": {
        "colab": {
          "base_uri": "https://localhost:8080/"
        },
        "id": "fpaEa6AUe0IS",
        "outputId": "2a491f9f-342d-4367-bf8f-a2d10c5b9a7e"
      },
      "source": [
        "# 分割英文數據和中文數據\n",
        "en_data = []\n",
        "ch_data = []\n",
        "for da in data:\n",
        "  en_data.append(da['english'])\n",
        "  ch_data.append('\\t'+da['chinese']+'\\n')\n",
        "\n",
        "print('英文數據:\\n', en_data[:3])\n",
        "print('\\n中文數據:\\n', ch_data[:3])"
      ],
      "execution_count": 93,
      "outputs": [
        {
          "output_type": "stream",
          "text": [
            "英文數據:\n",
            " ['For greater sharpness, but with a slight increase in graininess, you can use a 1:1 dilution of this developer.', 'He calls the Green Book, his book of teachings, “the new gospel.', 'And the light breeze moves me to caress her long ear']\n",
            "\n",
            "中文數據:\n",
            " ['\\t为了更好的锐度，但是附带的会多一些颗粒度，可以使用这个显影剂的1：1稀释液。\\n', '\\t他还把宣扬自己思想的所谓《绿皮书》称作“新福音书”。\\n', '\\t微风推着我去爱抚它的长耳朵\\n']\n"
          ],
          "name": "stdout"
        }
      ]
    },
    {
      "cell_type": "code",
      "metadata": {
        "colab": {
          "base_uri": "https://localhost:8080/"
        },
        "id": "ZM0wz6LViEvP",
        "outputId": "ddf2af5d-af71-403d-aba6-6ab518a63fa2"
      },
      "source": [
        "# 分別生成中英文字典，英文\n",
        "i = 0\n",
        "for ed in en_data:\n",
        "  while i < 1000:\n",
        "    en_vocab = set(''.join(ed))|en_vocab\n",
        "    i+=1\n",
        "\n",
        "id2en = list(en_vocab)\n",
        "en2id = {c:i for i,c in enumerate(id2en)}\n",
        "print('\\n英文字典:\\n', en2id)"
      ],
      "execution_count": 96,
      "outputs": [
        {
          "output_type": "stream",
          "text": [
            "\n",
            "英文字典:\n",
            " {'a': 0, 'd': 1, 'G': 2, 'B': 3, 'q': 4, 'w': 5, 'n': 6, 'm': 7, 's': 8, 'f': 9, 't': 10, 'k': 11, ' ': 12, ':': 13, '.': 14, 'H': 15, 'u': 16, 'r': 17, 'W': 18, 'y': 19, '“': 20, '1': 21, 'v': 22, 'h': 23, ',': 24, 'c': 25, 'F': 26, 'g': 27, 'i': 28, 'p': 29, 'b': 30, 'T': 31, 'l': 32, 'z': 33, 'o': 34, 'e': 35}\n"
          ],
          "name": "stdout"
        }
      ]
    },
    {
      "cell_type": "code",
      "metadata": {
        "colab": {
          "base_uri": "https://localhost:8080/"
        },
        "id": "NqZXJrWC9utd",
        "outputId": "84b64c7d-a3a1-4e11-ac47-67f125f8882f"
      },
      "source": [
        "# 分別生成中英文字典，中文\n",
        "i = 0\n",
        "for cd in ch_data:\n",
        "  while i < 1000000:\n",
        "    ch_vocab = set(''.join(cd))|ch_vocab\n",
        "    i+=1\n",
        "\n",
        "id2ch = list(ch_vocab)\n",
        "ch2id = {c:i for i,c in enumerate(id2ch)}\n",
        "print('\\n中文字典共計\\n:', ch2id)"
      ],
      "execution_count": 99,
      "outputs": [
        {
          "output_type": "stream",
          "text": [
            "\n",
            "中文字典共計\n",
            ": {'绿': 0, '自': 1, '鲜': 2, '微': 3, '液': 4, '推': 5, '稀': 6, '烈': 7, '“': 8, '1': 9, '扬': 10, '还': 11, '》': 12, '把': 13, '。': 14, '他': 15, '《': 16, '附': 17, '称': 18, '些': 19, '度': 20, '一': 21, '个': 22, '\\n': 23, '是': 24, '先': 25, '血': 26, '多': 27, '”': 28, '了': 29, '们': 30, '风': 31, '谓': 32, '作': 33, '朵': 34, '用': 35, '耳': 36, '，': 37, '带': 38, '福': 39, '的': 40, '去': 41, '\\t': 42, '剂': 43, '…': 44, '音': 45, '想': 46, '使': 47, '皮': 48, '好': 49, '显': 50, '思': 51, '流': 52, '释': 53, '着': 54, '以': 55, '我': 56, '可': 57, '这': 58, '长': 59, '为': 60, '新': 61, '白': 62, '锐': 63, '但': 64, '书': 65, '宣': 66, '己': 67, '抚': 68, '影': 69, '爱': 70, '颗': 71, '会': 72, '所': 73, '更': 74, '：': 75, '它': 76, '粒': 77}\n"
          ],
          "name": "stdout"
        }
      ]
    },
    {
      "cell_type": "code",
      "metadata": {
        "colab": {
          "base_uri": "https://localhost:8080/",
          "height": 376
        },
        "id": "-1Ip805u-r3p",
        "outputId": "f5288edd-6cd7-4b13-c954-a56067053021"
      },
      "source": [
        "# 利用字典，映射數據\n",
        "en_num_data = [[en2id[en] for en in line ] for line in en_data]\n",
        "ch_num_data = [[ch2id[ch] for ch in line] for line in ch_data]\n",
        "de_num_data = [[ch2id[ch] for ch in line][1:] for line in ch_data]\n",
        "\n",
        "print('char:', en_data[1])\n",
        "print('index:', en_num_data[1])"
      ],
      "execution_count": 105,
      "outputs": [
        {
          "output_type": "error",
          "ename": "KeyError",
          "evalue": "ignored",
          "traceback": [
            "\u001b[0;31m---------------------------------------------------------------------------\u001b[0m",
            "\u001b[0;31mKeyError\u001b[0m                                  Traceback (most recent call last)",
            "\u001b[0;32m<ipython-input-105-d643a56089e3>\u001b[0m in \u001b[0;36m<module>\u001b[0;34m()\u001b[0m\n\u001b[1;32m      1\u001b[0m \u001b[0;31m# 利用字典，映射數據\u001b[0m\u001b[0;34m\u001b[0m\u001b[0;34m\u001b[0m\u001b[0;34m\u001b[0m\u001b[0m\n\u001b[0;32m----> 2\u001b[0;31m \u001b[0men_num_data\u001b[0m \u001b[0;34m=\u001b[0m \u001b[0;34m[\u001b[0m\u001b[0;34m[\u001b[0m\u001b[0men2id\u001b[0m\u001b[0;34m[\u001b[0m\u001b[0men\u001b[0m\u001b[0;34m]\u001b[0m \u001b[0;32mfor\u001b[0m \u001b[0men\u001b[0m \u001b[0;32min\u001b[0m \u001b[0mline\u001b[0m \u001b[0;34m]\u001b[0m \u001b[0;32mfor\u001b[0m \u001b[0mline\u001b[0m \u001b[0;32min\u001b[0m \u001b[0men_data\u001b[0m\u001b[0;34m]\u001b[0m\u001b[0;34m\u001b[0m\u001b[0;34m\u001b[0m\u001b[0m\n\u001b[0m\u001b[1;32m      3\u001b[0m \u001b[0mch_num_data\u001b[0m \u001b[0;34m=\u001b[0m \u001b[0;34m[\u001b[0m\u001b[0;34m[\u001b[0m\u001b[0mch2id\u001b[0m\u001b[0;34m[\u001b[0m\u001b[0mch\u001b[0m\u001b[0;34m]\u001b[0m \u001b[0;32mfor\u001b[0m \u001b[0mch\u001b[0m \u001b[0;32min\u001b[0m \u001b[0mline\u001b[0m\u001b[0;34m]\u001b[0m \u001b[0;32mfor\u001b[0m \u001b[0mline\u001b[0m \u001b[0;32min\u001b[0m \u001b[0mch_data\u001b[0m\u001b[0;34m]\u001b[0m\u001b[0;34m\u001b[0m\u001b[0;34m\u001b[0m\u001b[0m\n\u001b[1;32m      4\u001b[0m \u001b[0mde_num_data\u001b[0m \u001b[0;34m=\u001b[0m \u001b[0;34m[\u001b[0m\u001b[0;34m[\u001b[0m\u001b[0mch2id\u001b[0m\u001b[0;34m[\u001b[0m\u001b[0mch\u001b[0m\u001b[0;34m]\u001b[0m \u001b[0;32mfor\u001b[0m \u001b[0mch\u001b[0m \u001b[0;32min\u001b[0m \u001b[0mline\u001b[0m\u001b[0;34m]\u001b[0m\u001b[0;34m[\u001b[0m\u001b[0;36m1\u001b[0m\u001b[0;34m:\u001b[0m\u001b[0;34m]\u001b[0m \u001b[0;32mfor\u001b[0m \u001b[0mline\u001b[0m \u001b[0;32min\u001b[0m \u001b[0mch_data\u001b[0m\u001b[0;34m]\u001b[0m\u001b[0;34m\u001b[0m\u001b[0;34m\u001b[0m\u001b[0m\n\u001b[1;32m      5\u001b[0m \u001b[0;34m\u001b[0m\u001b[0m\n",
            "\u001b[0;32m<ipython-input-105-d643a56089e3>\u001b[0m in \u001b[0;36m<listcomp>\u001b[0;34m(.0)\u001b[0m\n\u001b[1;32m      1\u001b[0m \u001b[0;31m# 利用字典，映射數據\u001b[0m\u001b[0;34m\u001b[0m\u001b[0;34m\u001b[0m\u001b[0;34m\u001b[0m\u001b[0m\n\u001b[0;32m----> 2\u001b[0;31m \u001b[0men_num_data\u001b[0m \u001b[0;34m=\u001b[0m \u001b[0;34m[\u001b[0m\u001b[0;34m[\u001b[0m\u001b[0men2id\u001b[0m\u001b[0;34m[\u001b[0m\u001b[0men\u001b[0m\u001b[0;34m]\u001b[0m \u001b[0;32mfor\u001b[0m \u001b[0men\u001b[0m \u001b[0;32min\u001b[0m \u001b[0mline\u001b[0m \u001b[0;34m]\u001b[0m \u001b[0;32mfor\u001b[0m \u001b[0mline\u001b[0m \u001b[0;32min\u001b[0m \u001b[0men_data\u001b[0m\u001b[0;34m]\u001b[0m\u001b[0;34m\u001b[0m\u001b[0;34m\u001b[0m\u001b[0m\n\u001b[0m\u001b[1;32m      3\u001b[0m \u001b[0mch_num_data\u001b[0m \u001b[0;34m=\u001b[0m \u001b[0;34m[\u001b[0m\u001b[0;34m[\u001b[0m\u001b[0mch2id\u001b[0m\u001b[0;34m[\u001b[0m\u001b[0mch\u001b[0m\u001b[0;34m]\u001b[0m \u001b[0;32mfor\u001b[0m \u001b[0mch\u001b[0m \u001b[0;32min\u001b[0m \u001b[0mline\u001b[0m\u001b[0;34m]\u001b[0m \u001b[0;32mfor\u001b[0m \u001b[0mline\u001b[0m \u001b[0;32min\u001b[0m \u001b[0mch_data\u001b[0m\u001b[0;34m]\u001b[0m\u001b[0;34m\u001b[0m\u001b[0;34m\u001b[0m\u001b[0m\n\u001b[1;32m      4\u001b[0m \u001b[0mde_num_data\u001b[0m \u001b[0;34m=\u001b[0m \u001b[0;34m[\u001b[0m\u001b[0;34m[\u001b[0m\u001b[0mch2id\u001b[0m\u001b[0;34m[\u001b[0m\u001b[0mch\u001b[0m\u001b[0;34m]\u001b[0m \u001b[0;32mfor\u001b[0m \u001b[0mch\u001b[0m \u001b[0;32min\u001b[0m \u001b[0mline\u001b[0m\u001b[0;34m]\u001b[0m\u001b[0;34m[\u001b[0m\u001b[0;36m1\u001b[0m\u001b[0;34m:\u001b[0m\u001b[0;34m]\u001b[0m \u001b[0;32mfor\u001b[0m \u001b[0mline\u001b[0m \u001b[0;32min\u001b[0m \u001b[0mch_data\u001b[0m\u001b[0;34m]\u001b[0m\u001b[0;34m\u001b[0m\u001b[0;34m\u001b[0m\u001b[0m\n\u001b[1;32m      5\u001b[0m \u001b[0;34m\u001b[0m\u001b[0m\n",
            "\u001b[0;32m<ipython-input-105-d643a56089e3>\u001b[0m in \u001b[0;36m<listcomp>\u001b[0;34m(.0)\u001b[0m\n\u001b[1;32m      1\u001b[0m \u001b[0;31m# 利用字典，映射數據\u001b[0m\u001b[0;34m\u001b[0m\u001b[0;34m\u001b[0m\u001b[0;34m\u001b[0m\u001b[0m\n\u001b[0;32m----> 2\u001b[0;31m \u001b[0men_num_data\u001b[0m \u001b[0;34m=\u001b[0m \u001b[0;34m[\u001b[0m\u001b[0;34m[\u001b[0m\u001b[0men2id\u001b[0m\u001b[0;34m[\u001b[0m\u001b[0men\u001b[0m\u001b[0;34m]\u001b[0m \u001b[0;32mfor\u001b[0m \u001b[0men\u001b[0m \u001b[0;32min\u001b[0m \u001b[0mline\u001b[0m \u001b[0;34m]\u001b[0m \u001b[0;32mfor\u001b[0m \u001b[0mline\u001b[0m \u001b[0;32min\u001b[0m \u001b[0men_data\u001b[0m\u001b[0;34m]\u001b[0m\u001b[0;34m\u001b[0m\u001b[0;34m\u001b[0m\u001b[0m\n\u001b[0m\u001b[1;32m      3\u001b[0m \u001b[0mch_num_data\u001b[0m \u001b[0;34m=\u001b[0m \u001b[0;34m[\u001b[0m\u001b[0;34m[\u001b[0m\u001b[0mch2id\u001b[0m\u001b[0;34m[\u001b[0m\u001b[0mch\u001b[0m\u001b[0;34m]\u001b[0m \u001b[0;32mfor\u001b[0m \u001b[0mch\u001b[0m \u001b[0;32min\u001b[0m \u001b[0mline\u001b[0m\u001b[0;34m]\u001b[0m \u001b[0;32mfor\u001b[0m \u001b[0mline\u001b[0m \u001b[0;32min\u001b[0m \u001b[0mch_data\u001b[0m\u001b[0;34m]\u001b[0m\u001b[0;34m\u001b[0m\u001b[0;34m\u001b[0m\u001b[0m\n\u001b[1;32m      4\u001b[0m \u001b[0mde_num_data\u001b[0m \u001b[0;34m=\u001b[0m \u001b[0;34m[\u001b[0m\u001b[0;34m[\u001b[0m\u001b[0mch2id\u001b[0m\u001b[0;34m[\u001b[0m\u001b[0mch\u001b[0m\u001b[0;34m]\u001b[0m \u001b[0;32mfor\u001b[0m \u001b[0mch\u001b[0m \u001b[0;32min\u001b[0m \u001b[0mline\u001b[0m\u001b[0;34m]\u001b[0m\u001b[0;34m[\u001b[0m\u001b[0;36m1\u001b[0m\u001b[0;34m:\u001b[0m\u001b[0;34m]\u001b[0m \u001b[0;32mfor\u001b[0m \u001b[0mline\u001b[0m \u001b[0;32min\u001b[0m \u001b[0mch_data\u001b[0m\u001b[0;34m]\u001b[0m\u001b[0;34m\u001b[0m\u001b[0;34m\u001b[0m\u001b[0m\n\u001b[1;32m      5\u001b[0m \u001b[0;34m\u001b[0m\u001b[0m\n",
            "\u001b[0;31mKeyError\u001b[0m: 'A'"
          ]
        }
      ]
    }
  ]
}